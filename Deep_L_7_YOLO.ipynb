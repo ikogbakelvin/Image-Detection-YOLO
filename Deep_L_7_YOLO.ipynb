{
 "cells": [
  {
   "cell_type": "markdown",
   "id": "e053ee4e",
   "metadata": {},
   "source": [
    "# Sunday 19th Feb. 2023.\n",
    "## YOLO"
   ]
  },
  {
   "cell_type": "code",
   "execution_count": 1,
   "id": "13ad5ce5",
   "metadata": {},
   "outputs": [],
   "source": [
    "# importing the modules that are needed\n",
    "import cv2\n",
    "import numpy as np \n",
    "import argparse\n",
    "import time\n"
   ]
  },
  {
   "cell_type": "code",
   "execution_count": 2,
   "id": "4a9d062b",
   "metadata": {},
   "outputs": [],
   "source": [
    "config='yolov3.cfg' # cfg folder\n",
    "weights='yolov3.weights' \n",
    "class_names = 'coco.names' # data folder\n"
   ]
  },
  {
   "cell_type": "code",
   "execution_count": 3,
   "id": "1dd1c5fd",
   "metadata": {},
   "outputs": [],
   "source": [
    "def load_yolo():\n",
    "    net = cv2.dnn.readNet(config, weights)\n",
    "    classes = []\n",
    "    with open(class_names, \"r\") as f:\n",
    "        classes = [line.strip() for line in f.readlines()]\n",
    "        layers_names = net.getLayerNames()\n",
    "        output_layers = [layers_names[i-1] for i in net.getUnconnectedOutLayers()]\n",
    "        colors = np.random.uniform(0, 255, size=(len(classes), 3))\n",
    "    return net, classes, colors, output_layers\n"
   ]
  },
  {
   "cell_type": "code",
   "execution_count": 4,
   "id": "029b539c",
   "metadata": {},
   "outputs": [],
   "source": [
    "def load_image(img_path):\n",
    "    # image loading\n",
    "    img = cv2.imread(img_path)\n",
    "    img = cv2.resize(img, None, fx=0.4, fy=0.4)\n",
    "    height, width, channels = img.shape\n",
    "    return img, height, width, channels\n"
   ]
  },
  {
   "cell_type": "code",
   "execution_count": 5,
   "id": "c83307d5",
   "metadata": {},
   "outputs": [],
   "source": [
    "def detect_objects(img, net, outputLayers):\n",
    "    blob = cv2.dnn.blobFromImage(img, scalefactor=0.00392, size=(320, 320), mean=(0, 0, 0), \\\n",
    "                                 swapRB=True, crop=False)\n",
    "    net.setInput(blob)\n",
    "    outputs = net.forward(outputLayers)\n",
    "    return blob, outputs\n"
   ]
  },
  {
   "cell_type": "code",
   "execution_count": 6,
   "id": "4bbb0a03",
   "metadata": {},
   "outputs": [],
   "source": [
    "cv2.dnn.blobFromImage?\n"
   ]
  },
  {
   "cell_type": "code",
   "execution_count": 7,
   "id": "f9809b92",
   "metadata": {},
   "outputs": [],
   "source": [
    "def get_box_dimensions(outputs, height, width):\n",
    "    boxes = []\n",
    "    confs = []\n",
    "    class_ids = []\n",
    "    for output in outputs:\n",
    "        for detect in output:\n",
    "            scores = detect[5:]\n",
    "            #print(scores)\n",
    "            class_id = np.argmax(scores)\n",
    "            conf = scores[class_id]\n",
    "            if conf > 0.3:\n",
    "                center_x = int(detect[0] * width)\n",
    "                center_y = int(detect[1] * height)\n",
    "                w = int(detect[2] * width)\n",
    "                h = int(detect[3] * height)\n",
    "                x = int(center_x - w/2)\n",
    "                y = int(center_y - h / 2)\n",
    "                boxes.append([x, y, w, h])\n",
    "                confs.append(float(conf))\n",
    "                class_ids.append(class_id)\n",
    "    return boxes, confs, class_ids\n"
   ]
  },
  {
   "cell_type": "code",
   "execution_count": 8,
   "id": "d73dbf71",
   "metadata": {},
   "outputs": [],
   "source": [
    "def draw_labels(boxes, confs, colors, class_ids, classes, img): \n",
    "    indexes = cv2.dnn.NMSBoxes(boxes, confs, 0.5, 0.4)\n",
    "    font = cv2.FONT_HERSHEY_PLAIN\n",
    "    for i in range(len(boxes)):\n",
    "        if i in indexes:\n",
    "            x, y, w, h = boxes[i]\n",
    "            label = str(classes[class_ids[i]])\n",
    "            color = colors[i]\n",
    "            cv2.rectangle(img, (x,y), (x+w, y+h), color, 2)\n",
    "            cv2.putText(img, label, (x, y - 5), font, 1, color, 1)\n",
    "    cv2.imshow(\"Image\", img)\n"
   ]
  },
  {
   "cell_type": "code",
   "execution_count": 9,
   "id": "238281c5",
   "metadata": {},
   "outputs": [],
   "source": [
    "def image_detect(img_path): \n",
    "    model, classes, colors, output_layers = load_yolo()\n",
    "    image, height, width, channels = load_image(img_path)\n",
    "    blob, outputs = detect_objects(image, model, output_layers)\n",
    "    boxes, confs, class_ids = get_box_dimensions(outputs, height, width)\n",
    "    draw_labels(boxes, confs, colors, class_ids, classes, image)\n",
    "    while True:\n",
    "        key = cv2.waitKey(1)\n",
    "        if key == 27: # Esc\n",
    "            break\n",
    "    cv2.destroyAllWindows()\n"
   ]
  },
  {
   "cell_type": "code",
   "execution_count": null,
   "id": "95769f91",
   "metadata": {},
   "outputs": [],
   "source": [
    "image = 'bicycle.jpg'\n",
    "image_detect(image)\n"
   ]
  },
  {
   "cell_type": "markdown",
   "id": "38acce55",
   "metadata": {},
   "source": [
    "## Detect from Webcam by YOLO"
   ]
  },
  {
   "cell_type": "code",
   "execution_count": 11,
   "id": "d1558ada",
   "metadata": {},
   "outputs": [],
   "source": [
    "def start_webcam():\n",
    "    cap = cv2.VideoCapture(0)\n",
    "    return cap\n"
   ]
  },
  {
   "cell_type": "code",
   "execution_count": 12,
   "id": "c3e9b2e5",
   "metadata": {},
   "outputs": [],
   "source": [
    "def webcam_detect():\n",
    "    model, classes, colors, output_layers = load_yolo()\n",
    "    cap = start_webcam()\n",
    "    while True:\n",
    "        _, frame = cap.read()\n",
    "        height, width, channels = frame.shape\n",
    "        blob, outputs = detect_objects(frame, model, output_layers)\n",
    "        boxes, confs, class_ids = get_box_dimensions(outputs, height, width)\n",
    "        draw_labels(boxes, confs, colors, class_ids, classes, frame)\n",
    "        key = cv2.waitKey(1)\n",
    "        if key == 27:\n",
    "            break\n",
    "    cap.release()\n",
    "    cv2.destroyAllWindows()\n"
   ]
  },
  {
   "cell_type": "code",
   "execution_count": 13,
   "id": "f90c4b1a",
   "metadata": {},
   "outputs": [
    {
     "name": "stdout",
     "output_type": "stream",
     "text": [
      "---- Starting Web Cam object detection ----\n"
     ]
    }
   ],
   "source": [
    "print('---- Starting Web Cam object detection ----')\n",
    "webcam_detect()\n"
   ]
  },
  {
   "cell_type": "markdown",
   "id": "2b51cc35",
   "metadata": {},
   "source": [
    "## Detect Object from Video"
   ]
  },
  {
   "cell_type": "code",
   "execution_count": 14,
   "id": "20c85d9e",
   "metadata": {},
   "outputs": [],
   "source": [
    "def start_video(video_path):\n",
    "    model, classes, colors, output_layers = load_yolo()\n",
    "    cap = cv2.VideoCapture(video_path)\n",
    "    while True:\n",
    "        _, frame = cap.read()\n",
    "        height, width, channels = frame.shape\n",
    "        blob, outputs = detect_objects(frame, model, output_layers)\n",
    "        boxes, confs, class_ids = get_box_dimensions(outputs, height, width)\n",
    "        draw_labels(boxes, confs, colors, class_ids, classes, frame)\n",
    "        key = cv2.waitKey(1)\n",
    "        if key == 27:\n",
    "            break\n",
    "    cap.release()\n",
    "    cv2.destroyAllWindows()\n"
   ]
  },
  {
   "cell_type": "code",
   "execution_count": 15,
   "id": "4663a847",
   "metadata": {},
   "outputs": [
    {
     "name": "stdout",
     "output_type": "stream",
     "text": [
      "Opening bird.mp4 .... \n"
     ]
    }
   ],
   "source": [
    "video_path = 'bird.mp4'\n",
    "print('Opening '+video_path+\" .... \")\n",
    "start_video(video_path)\n"
   ]
  },
  {
   "cell_type": "code",
   "execution_count": null,
   "id": "1a155f71",
   "metadata": {},
   "outputs": [],
   "source": []
  },
  {
   "cell_type": "code",
   "execution_count": null,
   "id": "3291fa7b",
   "metadata": {},
   "outputs": [],
   "source": []
  },
  {
   "cell_type": "code",
   "execution_count": null,
   "id": "d1f81ed6",
   "metadata": {},
   "outputs": [],
   "source": []
  },
  {
   "cell_type": "code",
   "execution_count": null,
   "id": "aa99afcd",
   "metadata": {},
   "outputs": [],
   "source": []
  },
  {
   "cell_type": "code",
   "execution_count": null,
   "id": "5b32ba26",
   "metadata": {},
   "outputs": [],
   "source": []
  }
 ],
 "metadata": {
  "kernelspec": {
   "display_name": "Python 3 (ipykernel)",
   "language": "python",
   "name": "python3"
  },
  "language_info": {
   "codemirror_mode": {
    "name": "ipython",
    "version": 3
   },
   "file_extension": ".py",
   "mimetype": "text/x-python",
   "name": "python",
   "nbconvert_exporter": "python",
   "pygments_lexer": "ipython3",
   "version": "3.9.12"
  }
 },
 "nbformat": 4,
 "nbformat_minor": 5
}
